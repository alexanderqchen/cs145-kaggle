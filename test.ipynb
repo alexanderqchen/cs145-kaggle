{
 "cells": [
  {
   "cell_type": "code",
   "execution_count": 19,
   "metadata": {},
   "outputs": [
    {
     "name": "stdout",
     "output_type": "stream",
     "text": [
      "          userId  movieId  rating\n",
      "0              1      7.0     3.5\n",
      "1              1     50.0     3.0\n",
      "2              1    151.0     4.5\n",
      "3              1    160.0     3.5\n",
      "4              1    173.0     3.0\n",
      "5              1    260.0     4.5\n",
      "6              1    318.0     4.5\n",
      "7              1    494.0     3.0\n",
      "8              1    527.0     5.0\n",
      "9              1    589.0     4.5\n",
      "10             1    832.0     3.5\n",
      "11             1    858.0     3.5\n",
      "12             1    912.0     5.0\n",
      "13             1    920.0     2.5\n",
      "14             1    923.0     5.0\n",
      "15             1   1196.0     4.5\n",
      "16             1   1210.0     5.0\n",
      "17             1   1304.0     4.0\n",
      "18             2      1.0     4.0\n",
      "19             2     50.0     4.5\n",
      "20             2    223.0     3.5\n",
      "21             2    260.0     4.5\n",
      "22             2    296.0     4.5\n",
      "23             2    377.0     4.0\n",
      "24             2    457.0     4.5\n",
      "25             2    480.0     5.0\n",
      "26             2    538.0     3.5\n",
      "27             2    548.0     3.5\n",
      "28             2    589.0     5.0\n",
      "29             2    608.0     4.0\n",
      "...          ...      ...     ...\n",
      "11946546  138492    150.0     3.0\n",
      "11946547  138492    158.0     3.0\n",
      "11946548  138492    161.0     3.0\n",
      "11946549  138492    165.0     3.0\n",
      "11946550  138492    185.0     3.0\n",
      "11946551  138492    204.0     3.0\n",
      "11946552  138492    208.0     2.0\n",
      "11946553  138492    235.0     1.0\n",
      "11946554  138492    236.0     3.0\n",
      "11946555  138492    237.0     4.0\n",
      "11946556  138492    252.0     3.0\n",
      "11946557  138492    256.0     3.0\n",
      "11946558  138492    276.0     3.0\n",
      "11946559  138492    277.0     3.0\n",
      "11946560  138492    292.0     4.0\n",
      "11946561  138492    300.0     4.0\n",
      "11946562  138492    316.0     2.0\n",
      "11946563  138493      2.0     4.0\n",
      "11946564  138493    161.0     4.0\n",
      "11946565  138493    165.0     3.0\n",
      "11946566  138493    292.0     4.0\n",
      "11946567  138493    329.0     3.0\n",
      "11946568  138493    350.0     4.0\n",
      "11946569  138493    364.0     4.0\n",
      "11946570  138493    367.0     2.0\n",
      "11946571  138493    368.0     3.0\n",
      "11946572  138493    380.0     3.0\n",
      "11946573  138493    454.0     4.0\n",
      "11946574  138493    500.0     4.0\n",
      "11946575  138493    508.0     4.0\n",
      "\n",
      "[11946576 rows x 3 columns]\n"
     ]
    }
   ],
   "source": [
    "import pandas as pd\n",
    "df = pandas.read_csv('csv/train_ratings.csv')\n",
    "print(df)"
   ]
  },
  {
   "cell_type": "code",
   "execution_count": 8,
   "metadata": {},
   "outputs": [],
   "source": [
    "users_avg = df.groupby(['userId'])['rating'].mean()"
   ]
  },
  {
   "cell_type": "code",
   "execution_count": 9,
   "metadata": {},
   "outputs": [],
   "source": [
    "movies_avg = df.groupby(['movieId'])['rating'].mean()"
   ]
  },
  {
   "cell_type": "code",
   "execution_count": 28,
   "metadata": {},
   "outputs": [
    {
     "data": {
      "text/plain": [
       "3.921239561324077"
      ]
     },
     "execution_count": 28,
     "metadata": {},
     "output_type": "execute_result"
    }
   ],
   "source": [
    "movies_avg[89896]"
   ]
  },
  {
   "cell_type": "code",
   "execution_count": null,
   "metadata": {},
   "outputs": [],
   "source": [
    "list(map(lambda x: x[0], df.iterrows()))"
   ]
  },
  {
   "cell_type": "code",
   "execution_count": 33,
   "metadata": {},
   "outputs": [],
   "source": [
    "df = pandas.DataFrame({'name': ['Raphael', 'Donatello'],\n",
    "'mask': ['red', 'purple'],\n",
    "'weapon': ['sai', 'bo staff']})"
   ]
  },
  {
   "cell_type": "code",
   "execution_count": 35,
   "metadata": {},
   "outputs": [],
   "source": [
    "df2 = df"
   ]
  },
  {
   "cell_type": "code",
   "execution_count": 37,
   "metadata": {},
   "outputs": [
    {
     "data": {
      "text/html": [
       "<div>\n",
       "<style scoped>\n",
       "    .dataframe tbody tr th:only-of-type {\n",
       "        vertical-align: middle;\n",
       "    }\n",
       "\n",
       "    .dataframe tbody tr th {\n",
       "        vertical-align: top;\n",
       "    }\n",
       "\n",
       "    .dataframe thead th {\n",
       "        text-align: right;\n",
       "    }\n",
       "</style>\n",
       "<table border=\"1\" class=\"dataframe\">\n",
       "  <thead>\n",
       "    <tr style=\"text-align: right;\">\n",
       "      <th></th>\n",
       "      <th>name</th>\n",
       "      <th>mask</th>\n",
       "      <th>weapon</th>\n",
       "    </tr>\n",
       "  </thead>\n",
       "  <tbody>\n",
       "    <tr>\n",
       "      <th>0</th>\n",
       "      <td>Raphael</td>\n",
       "      <td>red</td>\n",
       "      <td>sai</td>\n",
       "    </tr>\n",
       "    <tr>\n",
       "      <th>1</th>\n",
       "      <td>Donatello</td>\n",
       "      <td>purple</td>\n",
       "      <td>bo staff</td>\n",
       "    </tr>\n",
       "    <tr>\n",
       "      <th>2</th>\n",
       "      <td>Raphael</td>\n",
       "      <td>red</td>\n",
       "      <td>sai</td>\n",
       "    </tr>\n",
       "    <tr>\n",
       "      <th>3</th>\n",
       "      <td>Donatello</td>\n",
       "      <td>purple</td>\n",
       "      <td>bo staff</td>\n",
       "    </tr>\n",
       "  </tbody>\n",
       "</table>\n",
       "</div>"
      ],
      "text/plain": [
       "        name    mask    weapon\n",
       "0    Raphael     red       sai\n",
       "1  Donatello  purple  bo staff\n",
       "2    Raphael     red       sai\n",
       "3  Donatello  purple  bo staff"
      ]
     },
     "execution_count": 37,
     "metadata": {},
     "output_type": "execute_result"
    }
   ],
   "source": [
    "df.append(df2, ignore_index=True)"
   ]
  },
  {
   "cell_type": "code",
   "execution_count": 42,
   "metadata": {},
   "outputs": [],
   "source": [
    "df1 = pandas.DataFrame({'id': 5, 'rating': 1.2}, index=[0])"
   ]
  },
  {
   "cell_type": "code",
   "execution_count": 43,
   "metadata": {},
   "outputs": [],
   "source": [
    "df2 = pandas.DataFrame({'id': 6, 'rating': 1.3}, index=[0])"
   ]
  },
  {
   "cell_type": "code",
   "execution_count": 45,
   "metadata": {},
   "outputs": [
    {
     "data": {
      "text/html": [
       "<div>\n",
       "<style scoped>\n",
       "    .dataframe tbody tr th:only-of-type {\n",
       "        vertical-align: middle;\n",
       "    }\n",
       "\n",
       "    .dataframe tbody tr th {\n",
       "        vertical-align: top;\n",
       "    }\n",
       "\n",
       "    .dataframe thead th {\n",
       "        text-align: right;\n",
       "    }\n",
       "</style>\n",
       "<table border=\"1\" class=\"dataframe\">\n",
       "  <thead>\n",
       "    <tr style=\"text-align: right;\">\n",
       "      <th></th>\n",
       "      <th>id</th>\n",
       "      <th>rating</th>\n",
       "    </tr>\n",
       "  </thead>\n",
       "  <tbody>\n",
       "    <tr>\n",
       "      <th>0</th>\n",
       "      <td>5</td>\n",
       "      <td>1.2</td>\n",
       "    </tr>\n",
       "    <tr>\n",
       "      <th>1</th>\n",
       "      <td>6</td>\n",
       "      <td>1.3</td>\n",
       "    </tr>\n",
       "  </tbody>\n",
       "</table>\n",
       "</div>"
      ],
      "text/plain": [
       "   id  rating\n",
       "0   5     1.2\n",
       "1   6     1.3"
      ]
     },
     "execution_count": 45,
     "metadata": {},
     "output_type": "execute_result"
    }
   ],
   "source": [
    "df1.append(df2, ignore_index=True)"
   ]
  },
  {
   "cell_type": "code",
   "execution_count": 46,
   "metadata": {},
   "outputs": [],
   "source": [
    "df0 = pandas.DataFrame(columns=['id', 'rating'])"
   ]
  },
  {
   "cell_type": "code",
   "execution_count": 56,
   "metadata": {},
   "outputs": [],
   "source": [
    "df0 = df0.append(df1, ignore_index=True)"
   ]
  },
  {
   "cell_type": "code",
   "execution_count": 57,
   "metadata": {},
   "outputs": [
    {
     "data": {
      "text/plain": [
       "(1, 2)"
      ]
     },
     "execution_count": 57,
     "metadata": {},
     "output_type": "execute_result"
    }
   ],
   "source": [
    "df0.shape"
   ]
  },
  {
   "cell_type": "code",
   "execution_count": 58,
   "metadata": {},
   "outputs": [],
   "source": [
    "import numpy as np"
   ]
  },
  {
   "cell_type": "code",
   "execution_count": 64,
   "metadata": {},
   "outputs": [
    {
     "data": {
      "text/plain": [
       "array([[0., 0., 0., 0.],\n",
       "       [0., 0., 0., 0.]])"
      ]
     },
     "execution_count": 64,
     "metadata": {},
     "output_type": "execute_result"
    }
   ],
   "source": [
    "np.zeros((2, 4))"
   ]
  },
  {
   "cell_type": "code",
   "execution_count": null,
   "metadata": {},
   "outputs": [],
   "source": []
  }
 ],
 "metadata": {
  "kernelspec": {
   "display_name": "Python 3",
   "language": "python",
   "name": "python3"
  },
  "language_info": {
   "codemirror_mode": {
    "name": "ipython",
    "version": 3
   },
   "file_extension": ".py",
   "mimetype": "text/x-python",
   "name": "python",
   "nbconvert_exporter": "python",
   "pygments_lexer": "ipython3",
   "version": "3.6.3"
  }
 },
 "nbformat": 4,
 "nbformat_minor": 2
}
